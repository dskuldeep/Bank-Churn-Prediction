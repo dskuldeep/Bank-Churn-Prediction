{
 "cells": [
  {
   "cell_type": "code",
   "execution_count": 1,
   "id": "ce7be164",
   "metadata": {
    "_cell_guid": "7b9f893b-f965-4ddb-bf85-c80a10463178",
    "_uuid": "b3d6527a-7595-4732-afe0-582070047767",
    "collapsed": false,
    "execution": {
     "iopub.execute_input": "2024-01-25T17:00:28.065716Z",
     "iopub.status.busy": "2024-01-25T17:00:28.064904Z",
     "iopub.status.idle": "2024-01-25T17:00:30.422517Z",
     "shell.execute_reply": "2024-01-25T17:00:30.421471Z"
    },
    "jupyter": {
     "outputs_hidden": false
    },
    "papermill": {
     "duration": 2.375209,
     "end_time": "2024-01-25T17:00:30.425899",
     "exception": false,
     "start_time": "2024-01-25T17:00:28.050690",
     "status": "completed"
    },
    "tags": []
   },
   "outputs": [],
   "source": [
    "import xgboost as xgb\n",
    "from sklearn.model_selection import train_test_split\n",
    "from sklearn.metrics import accuracy_score\n",
    "import pandas as pd"
   ]
  },
  {
   "cell_type": "markdown",
   "id": "2a0f598c",
   "metadata": {
    "_cell_guid": "15c957c2-62f3-4c0b-b4a3-2d74b2012a85",
    "_uuid": "263ffe64-be82-4ff9-b89e-a5018674a652",
    "papermill": {
     "duration": 0.011308,
     "end_time": "2024-01-25T17:00:30.450026",
     "exception": false,
     "start_time": "2024-01-25T17:00:30.438718",
     "status": "completed"
    },
    "tags": []
   },
   "source": [
    "# Using Vanilla XGBoost Algorithm"
   ]
  },
  {
   "cell_type": "code",
   "execution_count": 2,
   "id": "c0936cbc",
   "metadata": {
    "_cell_guid": "60f1a9da-97cf-4ed0-9022-c1411544d3ed",
    "_uuid": "5b9ae198-9085-46da-9c03-d2636a08365a",
    "collapsed": false,
    "execution": {
     "iopub.execute_input": "2024-01-25T17:00:30.477306Z",
     "iopub.status.busy": "2024-01-25T17:00:30.476709Z",
     "iopub.status.idle": "2024-01-25T17:00:31.002403Z",
     "shell.execute_reply": "2024-01-25T17:00:31.001130Z"
    },
    "jupyter": {
     "outputs_hidden": false
    },
    "papermill": {
     "duration": 0.543508,
     "end_time": "2024-01-25T17:00:31.005208",
     "exception": false,
     "start_time": "2024-01-25T17:00:30.461700",
     "status": "completed"
    },
    "tags": []
   },
   "outputs": [],
   "source": [
    "df = pd.read_csv('/kaggle/input/playground-series-s4e1/train.csv')"
   ]
  },
  {
   "cell_type": "code",
   "execution_count": 3,
   "id": "05cc4f03",
   "metadata": {
    "_cell_guid": "ae6cef51-2e93-4b9e-97d5-6eea9678d61e",
    "_uuid": "40f167df-389f-4cf2-9c2b-daf522d2f34d",
    "collapsed": false,
    "execution": {
     "iopub.execute_input": "2024-01-25T17:00:31.030700Z",
     "iopub.status.busy": "2024-01-25T17:00:31.030300Z",
     "iopub.status.idle": "2024-01-25T17:00:31.163041Z",
     "shell.execute_reply": "2024-01-25T17:00:31.161874Z"
    },
    "jupyter": {
     "outputs_hidden": false
    },
    "papermill": {
     "duration": 0.148632,
     "end_time": "2024-01-25T17:00:31.165732",
     "exception": false,
     "start_time": "2024-01-25T17:00:31.017100",
     "status": "completed"
    },
    "tags": []
   },
   "outputs": [
    {
     "data": {
      "text/html": [
       "<div>\n",
       "<style scoped>\n",
       "    .dataframe tbody tr th:only-of-type {\n",
       "        vertical-align: middle;\n",
       "    }\n",
       "\n",
       "    .dataframe tbody tr th {\n",
       "        vertical-align: top;\n",
       "    }\n",
       "\n",
       "    .dataframe thead th {\n",
       "        text-align: right;\n",
       "    }\n",
       "</style>\n",
       "<table border=\"1\" class=\"dataframe\">\n",
       "  <thead>\n",
       "    <tr style=\"text-align: right;\">\n",
       "      <th></th>\n",
       "      <th>id</th>\n",
       "      <th>CustomerId</th>\n",
       "      <th>Surname</th>\n",
       "      <th>CreditScore</th>\n",
       "      <th>Geography</th>\n",
       "      <th>Gender</th>\n",
       "      <th>Age</th>\n",
       "      <th>Tenure</th>\n",
       "      <th>Balance</th>\n",
       "      <th>NumOfProducts</th>\n",
       "      <th>HasCrCard</th>\n",
       "      <th>IsActiveMember</th>\n",
       "      <th>EstimatedSalary</th>\n",
       "      <th>Exited</th>\n",
       "    </tr>\n",
       "  </thead>\n",
       "  <tbody>\n",
       "    <tr>\n",
       "      <th>0</th>\n",
       "      <td>0</td>\n",
       "      <td>15674932</td>\n",
       "      <td>Okwudilichukwu</td>\n",
       "      <td>668</td>\n",
       "      <td>France</td>\n",
       "      <td>Male</td>\n",
       "      <td>33.0</td>\n",
       "      <td>3</td>\n",
       "      <td>0.00</td>\n",
       "      <td>2</td>\n",
       "      <td>1.0</td>\n",
       "      <td>0.0</td>\n",
       "      <td>181449.97</td>\n",
       "      <td>0</td>\n",
       "    </tr>\n",
       "    <tr>\n",
       "      <th>1</th>\n",
       "      <td>1</td>\n",
       "      <td>15749177</td>\n",
       "      <td>Okwudiliolisa</td>\n",
       "      <td>627</td>\n",
       "      <td>France</td>\n",
       "      <td>Male</td>\n",
       "      <td>33.0</td>\n",
       "      <td>1</td>\n",
       "      <td>0.00</td>\n",
       "      <td>2</td>\n",
       "      <td>1.0</td>\n",
       "      <td>1.0</td>\n",
       "      <td>49503.50</td>\n",
       "      <td>0</td>\n",
       "    </tr>\n",
       "    <tr>\n",
       "      <th>2</th>\n",
       "      <td>2</td>\n",
       "      <td>15694510</td>\n",
       "      <td>Hsueh</td>\n",
       "      <td>678</td>\n",
       "      <td>France</td>\n",
       "      <td>Male</td>\n",
       "      <td>40.0</td>\n",
       "      <td>10</td>\n",
       "      <td>0.00</td>\n",
       "      <td>2</td>\n",
       "      <td>1.0</td>\n",
       "      <td>0.0</td>\n",
       "      <td>184866.69</td>\n",
       "      <td>0</td>\n",
       "    </tr>\n",
       "    <tr>\n",
       "      <th>3</th>\n",
       "      <td>3</td>\n",
       "      <td>15741417</td>\n",
       "      <td>Kao</td>\n",
       "      <td>581</td>\n",
       "      <td>France</td>\n",
       "      <td>Male</td>\n",
       "      <td>34.0</td>\n",
       "      <td>2</td>\n",
       "      <td>148882.54</td>\n",
       "      <td>1</td>\n",
       "      <td>1.0</td>\n",
       "      <td>1.0</td>\n",
       "      <td>84560.88</td>\n",
       "      <td>0</td>\n",
       "    </tr>\n",
       "    <tr>\n",
       "      <th>4</th>\n",
       "      <td>4</td>\n",
       "      <td>15766172</td>\n",
       "      <td>Chiemenam</td>\n",
       "      <td>716</td>\n",
       "      <td>Spain</td>\n",
       "      <td>Male</td>\n",
       "      <td>33.0</td>\n",
       "      <td>5</td>\n",
       "      <td>0.00</td>\n",
       "      <td>2</td>\n",
       "      <td>1.0</td>\n",
       "      <td>1.0</td>\n",
       "      <td>15068.83</td>\n",
       "      <td>0</td>\n",
       "    </tr>\n",
       "    <tr>\n",
       "      <th>...</th>\n",
       "      <td>...</td>\n",
       "      <td>...</td>\n",
       "      <td>...</td>\n",
       "      <td>...</td>\n",
       "      <td>...</td>\n",
       "      <td>...</td>\n",
       "      <td>...</td>\n",
       "      <td>...</td>\n",
       "      <td>...</td>\n",
       "      <td>...</td>\n",
       "      <td>...</td>\n",
       "      <td>...</td>\n",
       "      <td>...</td>\n",
       "      <td>...</td>\n",
       "    </tr>\n",
       "    <tr>\n",
       "      <th>165029</th>\n",
       "      <td>165029</td>\n",
       "      <td>15667085</td>\n",
       "      <td>Meng</td>\n",
       "      <td>667</td>\n",
       "      <td>Spain</td>\n",
       "      <td>Female</td>\n",
       "      <td>33.0</td>\n",
       "      <td>2</td>\n",
       "      <td>0.00</td>\n",
       "      <td>1</td>\n",
       "      <td>1.0</td>\n",
       "      <td>1.0</td>\n",
       "      <td>131834.75</td>\n",
       "      <td>0</td>\n",
       "    </tr>\n",
       "    <tr>\n",
       "      <th>165030</th>\n",
       "      <td>165030</td>\n",
       "      <td>15665521</td>\n",
       "      <td>Okechukwu</td>\n",
       "      <td>792</td>\n",
       "      <td>France</td>\n",
       "      <td>Male</td>\n",
       "      <td>35.0</td>\n",
       "      <td>3</td>\n",
       "      <td>0.00</td>\n",
       "      <td>1</td>\n",
       "      <td>0.0</td>\n",
       "      <td>0.0</td>\n",
       "      <td>131834.45</td>\n",
       "      <td>0</td>\n",
       "    </tr>\n",
       "    <tr>\n",
       "      <th>165031</th>\n",
       "      <td>165031</td>\n",
       "      <td>15664752</td>\n",
       "      <td>Hsia</td>\n",
       "      <td>565</td>\n",
       "      <td>France</td>\n",
       "      <td>Male</td>\n",
       "      <td>31.0</td>\n",
       "      <td>5</td>\n",
       "      <td>0.00</td>\n",
       "      <td>1</td>\n",
       "      <td>1.0</td>\n",
       "      <td>1.0</td>\n",
       "      <td>127429.56</td>\n",
       "      <td>0</td>\n",
       "    </tr>\n",
       "    <tr>\n",
       "      <th>165032</th>\n",
       "      <td>165032</td>\n",
       "      <td>15689614</td>\n",
       "      <td>Hsiung</td>\n",
       "      <td>554</td>\n",
       "      <td>Spain</td>\n",
       "      <td>Female</td>\n",
       "      <td>30.0</td>\n",
       "      <td>7</td>\n",
       "      <td>161533.00</td>\n",
       "      <td>1</td>\n",
       "      <td>0.0</td>\n",
       "      <td>1.0</td>\n",
       "      <td>71173.03</td>\n",
       "      <td>0</td>\n",
       "    </tr>\n",
       "    <tr>\n",
       "      <th>165033</th>\n",
       "      <td>165033</td>\n",
       "      <td>15732798</td>\n",
       "      <td>Ulyanov</td>\n",
       "      <td>850</td>\n",
       "      <td>France</td>\n",
       "      <td>Male</td>\n",
       "      <td>31.0</td>\n",
       "      <td>1</td>\n",
       "      <td>0.00</td>\n",
       "      <td>1</td>\n",
       "      <td>1.0</td>\n",
       "      <td>0.0</td>\n",
       "      <td>61581.79</td>\n",
       "      <td>1</td>\n",
       "    </tr>\n",
       "  </tbody>\n",
       "</table>\n",
       "<p>165034 rows × 14 columns</p>\n",
       "</div>"
      ],
      "text/plain": [
       "            id  CustomerId         Surname  CreditScore Geography  Gender  \\\n",
       "0            0    15674932  Okwudilichukwu          668    France    Male   \n",
       "1            1    15749177   Okwudiliolisa          627    France    Male   \n",
       "2            2    15694510           Hsueh          678    France    Male   \n",
       "3            3    15741417             Kao          581    France    Male   \n",
       "4            4    15766172       Chiemenam          716     Spain    Male   \n",
       "...        ...         ...             ...          ...       ...     ...   \n",
       "165029  165029    15667085            Meng          667     Spain  Female   \n",
       "165030  165030    15665521       Okechukwu          792    France    Male   \n",
       "165031  165031    15664752            Hsia          565    France    Male   \n",
       "165032  165032    15689614          Hsiung          554     Spain  Female   \n",
       "165033  165033    15732798         Ulyanov          850    France    Male   \n",
       "\n",
       "         Age  Tenure    Balance  NumOfProducts  HasCrCard  IsActiveMember  \\\n",
       "0       33.0       3       0.00              2        1.0             0.0   \n",
       "1       33.0       1       0.00              2        1.0             1.0   \n",
       "2       40.0      10       0.00              2        1.0             0.0   \n",
       "3       34.0       2  148882.54              1        1.0             1.0   \n",
       "4       33.0       5       0.00              2        1.0             1.0   \n",
       "...      ...     ...        ...            ...        ...             ...   \n",
       "165029  33.0       2       0.00              1        1.0             1.0   \n",
       "165030  35.0       3       0.00              1        0.0             0.0   \n",
       "165031  31.0       5       0.00              1        1.0             1.0   \n",
       "165032  30.0       7  161533.00              1        0.0             1.0   \n",
       "165033  31.0       1       0.00              1        1.0             0.0   \n",
       "\n",
       "        EstimatedSalary  Exited  \n",
       "0             181449.97       0  \n",
       "1              49503.50       0  \n",
       "2             184866.69       0  \n",
       "3              84560.88       0  \n",
       "4              15068.83       0  \n",
       "...                 ...     ...  \n",
       "165029        131834.75       0  \n",
       "165030        131834.45       0  \n",
       "165031        127429.56       0  \n",
       "165032         71173.03       0  \n",
       "165033         61581.79       1  \n",
       "\n",
       "[165034 rows x 14 columns]"
      ]
     },
     "execution_count": 3,
     "metadata": {},
     "output_type": "execute_result"
    }
   ],
   "source": [
    "df"
   ]
  },
  {
   "cell_type": "code",
   "execution_count": 4,
   "id": "e5e5a4b5",
   "metadata": {
    "_cell_guid": "56307b2e-5aaf-49d4-9f58-2f453e161fda",
    "_uuid": "af49aa8b-4d20-4640-a4b2-c0c6032aae8c",
    "collapsed": false,
    "execution": {
     "iopub.execute_input": "2024-01-25T17:00:31.192836Z",
     "iopub.status.busy": "2024-01-25T17:00:31.192417Z",
     "iopub.status.idle": "2024-01-25T17:00:31.359463Z",
     "shell.execute_reply": "2024-01-25T17:00:31.358229Z"
    },
    "jupyter": {
     "outputs_hidden": false
    },
    "papermill": {
     "duration": 0.18386,
     "end_time": "2024-01-25T17:00:31.362365",
     "exception": false,
     "start_time": "2024-01-25T17:00:31.178505",
     "status": "completed"
    },
    "tags": []
   },
   "outputs": [],
   "source": [
    "from sklearn.preprocessing import LabelEncoder\n",
    "\n",
    "label_encoder = LabelEncoder()\n",
    "df['Surname'] = label_encoder.fit_transform(df['Surname'])\n",
    "df['Geography'] = label_encoder.fit_transform(df['Geography'])\n",
    "df['Gender'] = label_encoder.fit_transform(df['Gender'])"
   ]
  },
  {
   "cell_type": "code",
   "execution_count": 5,
   "id": "a838db1f",
   "metadata": {
    "_cell_guid": "b0540c16-4097-420e-b065-a88e8d700af0",
    "_uuid": "8537f120-88f0-4af8-9407-94d19c8d4192",
    "collapsed": false,
    "execution": {
     "iopub.execute_input": "2024-01-25T17:00:31.388757Z",
     "iopub.status.busy": "2024-01-25T17:00:31.388372Z",
     "iopub.status.idle": "2024-01-25T17:00:31.409403Z",
     "shell.execute_reply": "2024-01-25T17:00:31.408391Z"
    },
    "jupyter": {
     "outputs_hidden": false
    },
    "papermill": {
     "duration": 0.037528,
     "end_time": "2024-01-25T17:00:31.412129",
     "exception": false,
     "start_time": "2024-01-25T17:00:31.374601",
     "status": "completed"
    },
    "tags": []
   },
   "outputs": [],
   "source": [
    "X = df.drop(['Exited'], axis=1)\n",
    "y = df['Exited']"
   ]
  },
  {
   "cell_type": "code",
   "execution_count": 6,
   "id": "8488a3d7",
   "metadata": {
    "_cell_guid": "874d3cb6-8e15-42df-a66a-77c80a25f33e",
    "_uuid": "f0459e50-3e9d-4693-a18a-33805574e361",
    "collapsed": false,
    "execution": {
     "iopub.execute_input": "2024-01-25T17:00:31.439729Z",
     "iopub.status.busy": "2024-01-25T17:00:31.439316Z",
     "iopub.status.idle": "2024-01-25T17:00:31.490158Z",
     "shell.execute_reply": "2024-01-25T17:00:31.488900Z"
    },
    "jupyter": {
     "outputs_hidden": false
    },
    "papermill": {
     "duration": 0.068852,
     "end_time": "2024-01-25T17:00:31.493350",
     "exception": false,
     "start_time": "2024-01-25T17:00:31.424498",
     "status": "completed"
    },
    "tags": []
   },
   "outputs": [],
   "source": [
    "X_train, X_test, y_train, y_test = train_test_split(X, y, test_size=0.2, random_state=42)"
   ]
  },
  {
   "cell_type": "code",
   "execution_count": 7,
   "id": "c7bcc46a",
   "metadata": {
    "_cell_guid": "82643263-ebc9-4efd-adb3-3b5cd4bf4d4d",
    "_uuid": "3e423f64-fe18-484f-b206-4fc52c0349ec",
    "collapsed": false,
    "execution": {
     "iopub.execute_input": "2024-01-25T17:00:31.520572Z",
     "iopub.status.busy": "2024-01-25T17:00:31.520110Z",
     "iopub.status.idle": "2024-01-25T17:00:31.525146Z",
     "shell.execute_reply": "2024-01-25T17:00:31.523979Z"
    },
    "jupyter": {
     "outputs_hidden": false
    },
    "papermill": {
     "duration": 0.021343,
     "end_time": "2024-01-25T17:00:31.527440",
     "exception": false,
     "start_time": "2024-01-25T17:00:31.506097",
     "status": "completed"
    },
    "tags": []
   },
   "outputs": [],
   "source": [
    "model = xgb.XGBClassifier()"
   ]
  },
  {
   "cell_type": "code",
   "execution_count": 8,
   "id": "9a5d690d",
   "metadata": {
    "_cell_guid": "bd4602f2-202f-429c-84de-c4870eebe9db",
    "_uuid": "eaa3ad04-93d4-4f18-b4ba-64550d31f58a",
    "collapsed": false,
    "execution": {
     "iopub.execute_input": "2024-01-25T17:00:31.555750Z",
     "iopub.status.busy": "2024-01-25T17:00:31.554798Z",
     "iopub.status.idle": "2024-01-25T17:00:32.698869Z",
     "shell.execute_reply": "2024-01-25T17:00:32.698023Z"
    },
    "jupyter": {
     "outputs_hidden": false
    },
    "papermill": {
     "duration": 1.161125,
     "end_time": "2024-01-25T17:00:32.702144",
     "exception": false,
     "start_time": "2024-01-25T17:00:31.541019",
     "status": "completed"
    },
    "tags": []
   },
   "outputs": [
    {
     "name": "stdout",
     "output_type": "stream",
     "text": [
      "Accuracy: 0.865937528403066\n"
     ]
    }
   ],
   "source": [
    "model.fit(X_train, y_train)\n",
    "y_pred = model.predict(X_test)\n",
    "\n",
    "accuracy = accuracy_score(y_test, y_pred)\n",
    "print(f'Accuracy: {accuracy}')"
   ]
  },
  {
   "cell_type": "code",
   "execution_count": 9,
   "id": "291ee62f",
   "metadata": {
    "_cell_guid": "9ff6884d-d0ed-4d79-b65a-23fdd95a652f",
    "_uuid": "126582ef-8b3d-4691-9904-ca4d88917829",
    "collapsed": false,
    "execution": {
     "iopub.execute_input": "2024-01-25T17:00:32.730242Z",
     "iopub.status.busy": "2024-01-25T17:00:32.729797Z",
     "iopub.status.idle": "2024-01-25T17:00:33.081496Z",
     "shell.execute_reply": "2024-01-25T17:00:33.080286Z"
    },
    "jupyter": {
     "outputs_hidden": false
    },
    "papermill": {
     "duration": 0.369214,
     "end_time": "2024-01-25T17:00:33.084654",
     "exception": false,
     "start_time": "2024-01-25T17:00:32.715440",
     "status": "completed"
    },
    "tags": []
   },
   "outputs": [],
   "source": [
    "df_test = pd.read_csv('/kaggle/input/playground-series-s4e1/test.csv')"
   ]
  },
  {
   "cell_type": "code",
   "execution_count": 10,
   "id": "7dc4935b",
   "metadata": {
    "_cell_guid": "9d5bda1c-7919-4dbe-a583-f49a46c1c0e3",
    "_uuid": "5479d0ad-ef2e-4a9c-8d6e-965be3f67d10",
    "collapsed": false,
    "execution": {
     "iopub.execute_input": "2024-01-25T17:00:33.112574Z",
     "iopub.status.busy": "2024-01-25T17:00:33.112191Z",
     "iopub.status.idle": "2024-01-25T17:00:33.239885Z",
     "shell.execute_reply": "2024-01-25T17:00:33.238524Z"
    },
    "jupyter": {
     "outputs_hidden": false
    },
    "papermill": {
     "duration": 0.145449,
     "end_time": "2024-01-25T17:00:33.242862",
     "exception": false,
     "start_time": "2024-01-25T17:00:33.097413",
     "status": "completed"
    },
    "tags": []
   },
   "outputs": [],
   "source": [
    "df_test['Surname'] = label_encoder.fit_transform(df_test['Surname'])\n",
    "df_test['Geography'] = label_encoder.fit_transform(df_test['Geography'])\n",
    "df_test['Gender'] = label_encoder.fit_transform(df_test['Gender'])"
   ]
  },
  {
   "cell_type": "code",
   "execution_count": 11,
   "id": "83a7f7d2",
   "metadata": {
    "_cell_guid": "131edaa2-41d3-4b44-b6b9-36f25771e26f",
    "_uuid": "1b941eb3-9a8a-420f-ae0d-b426bf2eb612",
    "collapsed": false,
    "execution": {
     "iopub.execute_input": "2024-01-25T17:00:33.269369Z",
     "iopub.status.busy": "2024-01-25T17:00:33.268907Z",
     "iopub.status.idle": "2024-01-25T17:00:33.395615Z",
     "shell.execute_reply": "2024-01-25T17:00:33.394643Z"
    },
    "jupyter": {
     "outputs_hidden": false
    },
    "papermill": {
     "duration": 0.143085,
     "end_time": "2024-01-25T17:00:33.398312",
     "exception": false,
     "start_time": "2024-01-25T17:00:33.255227",
     "status": "completed"
    },
    "tags": []
   },
   "outputs": [],
   "source": [
    "test_pred = model.predict(df_test)"
   ]
  },
  {
   "cell_type": "code",
   "execution_count": 12,
   "id": "b0d524ee",
   "metadata": {
    "_cell_guid": "19ffd3ab-0f1c-46d6-81cc-d4653222aaca",
    "_uuid": "5bec94aa-c101-4c55-87fb-1ae99d4c6381",
    "collapsed": false,
    "execution": {
     "iopub.execute_input": "2024-01-25T17:00:33.426387Z",
     "iopub.status.busy": "2024-01-25T17:00:33.425937Z",
     "iopub.status.idle": "2024-01-25T17:00:33.432608Z",
     "shell.execute_reply": "2024-01-25T17:00:33.431749Z"
    },
    "jupyter": {
     "outputs_hidden": false
    },
    "papermill": {
     "duration": 0.023006,
     "end_time": "2024-01-25T17:00:33.434912",
     "exception": false,
     "start_time": "2024-01-25T17:00:33.411906",
     "status": "completed"
    },
    "tags": []
   },
   "outputs": [
    {
     "data": {
      "text/plain": [
       "array([0, 1, 0, ..., 0, 0, 0])"
      ]
     },
     "execution_count": 12,
     "metadata": {},
     "output_type": "execute_result"
    }
   ],
   "source": [
    "test_pred"
   ]
  },
  {
   "cell_type": "code",
   "execution_count": 13,
   "id": "51f529ef",
   "metadata": {
    "_cell_guid": "76707251-f4f0-4007-87c8-16eb631ed9e2",
    "_uuid": "684a777a-ea23-495a-a9f9-1106de6a715d",
    "collapsed": false,
    "execution": {
     "iopub.execute_input": "2024-01-25T17:00:33.462086Z",
     "iopub.status.busy": "2024-01-25T17:00:33.461387Z",
     "iopub.status.idle": "2024-01-25T17:00:33.468772Z",
     "shell.execute_reply": "2024-01-25T17:00:33.467843Z"
    },
    "jupyter": {
     "outputs_hidden": false
    },
    "papermill": {
     "duration": 0.024128,
     "end_time": "2024-01-25T17:00:33.471554",
     "exception": false,
     "start_time": "2024-01-25T17:00:33.447426",
     "status": "completed"
    },
    "tags": []
   },
   "outputs": [],
   "source": [
    "df_test['Exited'] = test_pred"
   ]
  },
  {
   "cell_type": "code",
   "execution_count": 14,
   "id": "e1598ba7",
   "metadata": {
    "_cell_guid": "fc278133-5a0e-4098-9adb-968ca60647ea",
    "_uuid": "b032daa2-6575-46d2-88f1-4673e4adec4a",
    "collapsed": false,
    "execution": {
     "iopub.execute_input": "2024-01-25T17:00:33.499786Z",
     "iopub.status.busy": "2024-01-25T17:00:33.499369Z",
     "iopub.status.idle": "2024-01-25T17:00:33.520470Z",
     "shell.execute_reply": "2024-01-25T17:00:33.519031Z"
    },
    "jupyter": {
     "outputs_hidden": false
    },
    "papermill": {
     "duration": 0.038462,
     "end_time": "2024-01-25T17:00:33.522930",
     "exception": false,
     "start_time": "2024-01-25T17:00:33.484468",
     "status": "completed"
    },
    "tags": []
   },
   "outputs": [
    {
     "data": {
      "text/html": [
       "<div>\n",
       "<style scoped>\n",
       "    .dataframe tbody tr th:only-of-type {\n",
       "        vertical-align: middle;\n",
       "    }\n",
       "\n",
       "    .dataframe tbody tr th {\n",
       "        vertical-align: top;\n",
       "    }\n",
       "\n",
       "    .dataframe thead th {\n",
       "        text-align: right;\n",
       "    }\n",
       "</style>\n",
       "<table border=\"1\" class=\"dataframe\">\n",
       "  <thead>\n",
       "    <tr style=\"text-align: right;\">\n",
       "      <th></th>\n",
       "      <th>id</th>\n",
       "      <th>CustomerId</th>\n",
       "      <th>Surname</th>\n",
       "      <th>CreditScore</th>\n",
       "      <th>Geography</th>\n",
       "      <th>Gender</th>\n",
       "      <th>Age</th>\n",
       "      <th>Tenure</th>\n",
       "      <th>Balance</th>\n",
       "      <th>NumOfProducts</th>\n",
       "      <th>HasCrCard</th>\n",
       "      <th>IsActiveMember</th>\n",
       "      <th>EstimatedSalary</th>\n",
       "      <th>Exited</th>\n",
       "    </tr>\n",
       "  </thead>\n",
       "  <tbody>\n",
       "    <tr>\n",
       "      <th>0</th>\n",
       "      <td>165034</td>\n",
       "      <td>15773898</td>\n",
       "      <td>1482</td>\n",
       "      <td>586</td>\n",
       "      <td>0</td>\n",
       "      <td>0</td>\n",
       "      <td>23.0</td>\n",
       "      <td>2</td>\n",
       "      <td>0.00</td>\n",
       "      <td>2</td>\n",
       "      <td>0.0</td>\n",
       "      <td>1.0</td>\n",
       "      <td>160976.75</td>\n",
       "      <td>0</td>\n",
       "    </tr>\n",
       "    <tr>\n",
       "      <th>1</th>\n",
       "      <td>165035</td>\n",
       "      <td>15782418</td>\n",
       "      <td>1812</td>\n",
       "      <td>683</td>\n",
       "      <td>0</td>\n",
       "      <td>0</td>\n",
       "      <td>46.0</td>\n",
       "      <td>2</td>\n",
       "      <td>0.00</td>\n",
       "      <td>1</td>\n",
       "      <td>1.0</td>\n",
       "      <td>0.0</td>\n",
       "      <td>72549.27</td>\n",
       "      <td>1</td>\n",
       "    </tr>\n",
       "    <tr>\n",
       "      <th>2</th>\n",
       "      <td>165036</td>\n",
       "      <td>15807120</td>\n",
       "      <td>1246</td>\n",
       "      <td>656</td>\n",
       "      <td>0</td>\n",
       "      <td>0</td>\n",
       "      <td>34.0</td>\n",
       "      <td>7</td>\n",
       "      <td>0.00</td>\n",
       "      <td>2</td>\n",
       "      <td>1.0</td>\n",
       "      <td>0.0</td>\n",
       "      <td>138882.09</td>\n",
       "      <td>0</td>\n",
       "    </tr>\n",
       "    <tr>\n",
       "      <th>3</th>\n",
       "      <td>165037</td>\n",
       "      <td>15808905</td>\n",
       "      <td>1832</td>\n",
       "      <td>681</td>\n",
       "      <td>0</td>\n",
       "      <td>1</td>\n",
       "      <td>36.0</td>\n",
       "      <td>8</td>\n",
       "      <td>0.00</td>\n",
       "      <td>1</td>\n",
       "      <td>1.0</td>\n",
       "      <td>0.0</td>\n",
       "      <td>113931.57</td>\n",
       "      <td>0</td>\n",
       "    </tr>\n",
       "    <tr>\n",
       "      <th>4</th>\n",
       "      <td>165038</td>\n",
       "      <td>15607314</td>\n",
       "      <td>1079</td>\n",
       "      <td>752</td>\n",
       "      <td>1</td>\n",
       "      <td>1</td>\n",
       "      <td>38.0</td>\n",
       "      <td>10</td>\n",
       "      <td>121263.62</td>\n",
       "      <td>1</td>\n",
       "      <td>1.0</td>\n",
       "      <td>0.0</td>\n",
       "      <td>139431.00</td>\n",
       "      <td>0</td>\n",
       "    </tr>\n",
       "  </tbody>\n",
       "</table>\n",
       "</div>"
      ],
      "text/plain": [
       "       id  CustomerId  Surname  CreditScore  Geography  Gender   Age  Tenure  \\\n",
       "0  165034    15773898     1482          586          0       0  23.0       2   \n",
       "1  165035    15782418     1812          683          0       0  46.0       2   \n",
       "2  165036    15807120     1246          656          0       0  34.0       7   \n",
       "3  165037    15808905     1832          681          0       1  36.0       8   \n",
       "4  165038    15607314     1079          752          1       1  38.0      10   \n",
       "\n",
       "     Balance  NumOfProducts  HasCrCard  IsActiveMember  EstimatedSalary  \\\n",
       "0       0.00              2        0.0             1.0        160976.75   \n",
       "1       0.00              1        1.0             0.0         72549.27   \n",
       "2       0.00              2        1.0             0.0        138882.09   \n",
       "3       0.00              1        1.0             0.0        113931.57   \n",
       "4  121263.62              1        1.0             0.0        139431.00   \n",
       "\n",
       "   Exited  \n",
       "0       0  \n",
       "1       1  \n",
       "2       0  \n",
       "3       0  \n",
       "4       0  "
      ]
     },
     "execution_count": 14,
     "metadata": {},
     "output_type": "execute_result"
    }
   ],
   "source": [
    "df_test.head()"
   ]
  },
  {
   "cell_type": "code",
   "execution_count": 15,
   "id": "49a47b76",
   "metadata": {
    "_cell_guid": "7b8de9ae-c701-4d60-8703-ce217e529e5e",
    "_uuid": "392f5ef4-ab33-4009-a30c-1b50bc849421",
    "collapsed": false,
    "execution": {
     "iopub.execute_input": "2024-01-25T17:00:33.550853Z",
     "iopub.status.busy": "2024-01-25T17:00:33.550192Z",
     "iopub.status.idle": "2024-01-25T17:00:33.563536Z",
     "shell.execute_reply": "2024-01-25T17:00:33.562294Z"
    },
    "jupyter": {
     "outputs_hidden": false
    },
    "papermill": {
     "duration": 0.030318,
     "end_time": "2024-01-25T17:00:33.566186",
     "exception": false,
     "start_time": "2024-01-25T17:00:33.535868",
     "status": "completed"
    },
    "tags": []
   },
   "outputs": [
    {
     "data": {
      "text/html": [
       "<div>\n",
       "<style scoped>\n",
       "    .dataframe tbody tr th:only-of-type {\n",
       "        vertical-align: middle;\n",
       "    }\n",
       "\n",
       "    .dataframe tbody tr th {\n",
       "        vertical-align: top;\n",
       "    }\n",
       "\n",
       "    .dataframe thead th {\n",
       "        text-align: right;\n",
       "    }\n",
       "</style>\n",
       "<table border=\"1\" class=\"dataframe\">\n",
       "  <thead>\n",
       "    <tr style=\"text-align: right;\">\n",
       "      <th></th>\n",
       "      <th>id</th>\n",
       "      <th>Exited</th>\n",
       "    </tr>\n",
       "  </thead>\n",
       "  <tbody>\n",
       "    <tr>\n",
       "      <th>0</th>\n",
       "      <td>165034</td>\n",
       "      <td>0</td>\n",
       "    </tr>\n",
       "    <tr>\n",
       "      <th>1</th>\n",
       "      <td>165035</td>\n",
       "      <td>1</td>\n",
       "    </tr>\n",
       "    <tr>\n",
       "      <th>2</th>\n",
       "      <td>165036</td>\n",
       "      <td>0</td>\n",
       "    </tr>\n",
       "    <tr>\n",
       "      <th>3</th>\n",
       "      <td>165037</td>\n",
       "      <td>0</td>\n",
       "    </tr>\n",
       "    <tr>\n",
       "      <th>4</th>\n",
       "      <td>165038</td>\n",
       "      <td>0</td>\n",
       "    </tr>\n",
       "  </tbody>\n",
       "</table>\n",
       "</div>"
      ],
      "text/plain": [
       "       id  Exited\n",
       "0  165034       0\n",
       "1  165035       1\n",
       "2  165036       0\n",
       "3  165037       0\n",
       "4  165038       0"
      ]
     },
     "execution_count": 15,
     "metadata": {},
     "output_type": "execute_result"
    }
   ],
   "source": [
    "selected_columns = df_test.loc[:, ['id', 'Exited']]\n",
    "selected_columns.head()"
   ]
  },
  {
   "cell_type": "code",
   "execution_count": 16,
   "id": "66f38c6e",
   "metadata": {
    "_cell_guid": "02931623-8aac-4e75-a139-ab7589ae6756",
    "_uuid": "43daabbe-b940-4182-a6b2-913e5a3bc84d",
    "collapsed": false,
    "execution": {
     "iopub.execute_input": "2024-01-25T17:00:33.596689Z",
     "iopub.status.busy": "2024-01-25T17:00:33.596286Z",
     "iopub.status.idle": "2024-01-25T17:00:33.860907Z",
     "shell.execute_reply": "2024-01-25T17:00:33.859622Z"
    },
    "jupyter": {
     "outputs_hidden": false
    },
    "papermill": {
     "duration": 0.282773,
     "end_time": "2024-01-25T17:00:33.863696",
     "exception": false,
     "start_time": "2024-01-25T17:00:33.580923",
     "status": "completed"
    },
    "tags": []
   },
   "outputs": [],
   "source": [
    "selected_columns.to_csv('bank_churn.csv', index=False)"
   ]
  },
  {
   "cell_type": "markdown",
   "id": "10ff7ada",
   "metadata": {
    "_cell_guid": "3ec953a6-2ebd-492f-a08d-ea9c4a62d476",
    "_uuid": "2e4678b6-f69c-46b9-a146-9847544ff68f",
    "papermill": {
     "duration": 0.013973,
     "end_time": "2024-01-25T17:00:33.891020",
     "exception": false,
     "start_time": "2024-01-25T17:00:33.877047",
     "status": "completed"
    },
    "tags": []
   },
   "source": [
    "# Using Catboost pipeline"
   ]
  },
  {
   "cell_type": "code",
   "execution_count": 17,
   "id": "c7cb8626",
   "metadata": {
    "_cell_guid": "7f7282cb-0dd1-4557-96ea-9d10df739104",
    "_uuid": "8a6ae252-d275-4356-b43b-2655d7a01ef3",
    "collapsed": false,
    "execution": {
     "iopub.execute_input": "2024-01-25T17:00:33.919390Z",
     "iopub.status.busy": "2024-01-25T17:00:33.918922Z",
     "iopub.status.idle": "2024-01-25T17:00:34.283182Z",
     "shell.execute_reply": "2024-01-25T17:00:34.281944Z"
    },
    "jupyter": {
     "outputs_hidden": false
    },
    "papermill": {
     "duration": 0.38185,
     "end_time": "2024-01-25T17:00:34.285926",
     "exception": false,
     "start_time": "2024-01-25T17:00:33.904076",
     "status": "completed"
    },
    "tags": []
   },
   "outputs": [],
   "source": [
    "from catboost import CatBoostClassifier, Pool\n",
    "from sklearn.metrics import roc_auc_score\n",
    "from sklearn.preprocessing import StandardScaler, OneHotEncoder\n",
    "from sklearn.compose import ColumnTransformer\n",
    "from sklearn.pipeline import Pipeline"
   ]
  },
  {
   "cell_type": "code",
   "execution_count": 18,
   "id": "5be3c32d",
   "metadata": {
    "_cell_guid": "f50997db-b918-4398-ae4f-dee4a8d77c2a",
    "_uuid": "534ab7c2-651b-46b5-aaaf-2fe17f2182d6",
    "collapsed": false,
    "execution": {
     "iopub.execute_input": "2024-01-25T17:00:34.314536Z",
     "iopub.status.busy": "2024-01-25T17:00:34.314090Z",
     "iopub.status.idle": "2024-01-25T17:00:34.847457Z",
     "shell.execute_reply": "2024-01-25T17:00:34.846360Z"
    },
    "jupyter": {
     "outputs_hidden": false
    },
    "papermill": {
     "duration": 0.55098,
     "end_time": "2024-01-25T17:00:34.850148",
     "exception": false,
     "start_time": "2024-01-25T17:00:34.299168",
     "status": "completed"
    },
    "tags": []
   },
   "outputs": [],
   "source": [
    "train_df = pd.read_csv('/kaggle/input/playground-series-s4e1/train.csv')\n",
    "test_df = pd.read_csv('/kaggle/input/playground-series-s4e1/test.csv')"
   ]
  },
  {
   "cell_type": "code",
   "execution_count": 19,
   "id": "832f5e96",
   "metadata": {
    "_cell_guid": "107528d9-5010-407a-b8a6-6b15a6c7376a",
    "_uuid": "3be9b79b-88b0-4b5c-974c-0a9745b65cd8",
    "collapsed": false,
    "execution": {
     "iopub.execute_input": "2024-01-25T17:00:34.881069Z",
     "iopub.status.busy": "2024-01-25T17:00:34.880509Z",
     "iopub.status.idle": "2024-01-25T17:00:34.894358Z",
     "shell.execute_reply": "2024-01-25T17:00:34.893195Z"
    },
    "jupyter": {
     "outputs_hidden": false
    },
    "papermill": {
     "duration": 0.031739,
     "end_time": "2024-01-25T17:00:34.896892",
     "exception": false,
     "start_time": "2024-01-25T17:00:34.865153",
     "status": "completed"
    },
    "tags": []
   },
   "outputs": [],
   "source": [
    "X = train_df.drop(['Exited'], axis=1)\n",
    "y = train_df['Exited']"
   ]
  },
  {
   "cell_type": "code",
   "execution_count": 20,
   "id": "c9be3b76",
   "metadata": {
    "_cell_guid": "eba7d2db-ece9-47dd-9df8-48130b774b4b",
    "_uuid": "822560bd-493d-482d-8c51-234590d88bbd",
    "collapsed": false,
    "execution": {
     "iopub.execute_input": "2024-01-25T17:00:34.925371Z",
     "iopub.status.busy": "2024-01-25T17:00:34.924927Z",
     "iopub.status.idle": "2024-01-25T17:00:34.985901Z",
     "shell.execute_reply": "2024-01-25T17:00:34.984434Z"
    },
    "jupyter": {
     "outputs_hidden": false
    },
    "papermill": {
     "duration": 0.079041,
     "end_time": "2024-01-25T17:00:34.989168",
     "exception": false,
     "start_time": "2024-01-25T17:00:34.910127",
     "status": "completed"
    },
    "tags": []
   },
   "outputs": [],
   "source": [
    "X_train, X_val, y_train, y_val = train_test_split(X, y, test_size=0.2, random_state=42)"
   ]
  },
  {
   "cell_type": "code",
   "execution_count": 21,
   "id": "c7517258",
   "metadata": {
    "_cell_guid": "7f47f92f-a22c-4ee9-b660-5f616074410a",
    "_uuid": "761b978c-b836-4efb-bebb-b24657b35747",
    "collapsed": false,
    "execution": {
     "iopub.execute_input": "2024-01-25T17:00:35.018604Z",
     "iopub.status.busy": "2024-01-25T17:00:35.018152Z",
     "iopub.status.idle": "2024-01-25T17:00:35.032942Z",
     "shell.execute_reply": "2024-01-25T17:00:35.031515Z"
    },
    "jupyter": {
     "outputs_hidden": false
    },
    "papermill": {
     "duration": 0.032728,
     "end_time": "2024-01-25T17:00:35.035929",
     "exception": false,
     "start_time": "2024-01-25T17:00:35.003201",
     "status": "completed"
    },
    "tags": []
   },
   "outputs": [],
   "source": [
    "numerical_features = X.select_dtypes(include=['int64', 'float64']).columns\n",
    "categorical_features = X.select_dtypes(include=['object']).columns"
   ]
  },
  {
   "cell_type": "code",
   "execution_count": 22,
   "id": "c33c1fe4",
   "metadata": {
    "_cell_guid": "38948541-a00e-49a1-90b5-51502e90b4c9",
    "_uuid": "9836a5eb-436c-49f9-97d1-9b66c68ca580",
    "collapsed": false,
    "execution": {
     "iopub.execute_input": "2024-01-25T17:00:35.065148Z",
     "iopub.status.busy": "2024-01-25T17:00:35.063907Z",
     "iopub.status.idle": "2024-01-25T17:00:35.071692Z",
     "shell.execute_reply": "2024-01-25T17:00:35.069538Z"
    },
    "jupyter": {
     "outputs_hidden": false
    },
    "papermill": {
     "duration": 0.026076,
     "end_time": "2024-01-25T17:00:35.075437",
     "exception": false,
     "start_time": "2024-01-25T17:00:35.049361",
     "status": "completed"
    },
    "tags": []
   },
   "outputs": [],
   "source": [
    "numeric_transformer_xgb = StandardScaler()\n",
    "\n",
    "preprocessor_xgb = ColumnTransformer(\n",
    "    transformers=[\n",
    "        ('num', numeric_transformer_xgb, numerical_features),\n",
    "    ])\n",
    "categorical_transformer_cat = OneHotEncoder(handle_unknown='ignore')"
   ]
  },
  {
   "cell_type": "code",
   "execution_count": 23,
   "id": "8e722ae2",
   "metadata": {
    "_cell_guid": "492ca2e0-ef1f-4e61-8fc2-fb765f6c51ef",
    "_uuid": "b01e5100-4410-43a3-ad92-9b879dbaa923",
    "collapsed": false,
    "execution": {
     "iopub.execute_input": "2024-01-25T17:00:35.103439Z",
     "iopub.status.busy": "2024-01-25T17:00:35.103021Z",
     "iopub.status.idle": "2024-01-25T17:00:35.109514Z",
     "shell.execute_reply": "2024-01-25T17:00:35.108211Z"
    },
    "jupyter": {
     "outputs_hidden": false
    },
    "papermill": {
     "duration": 0.023589,
     "end_time": "2024-01-25T17:00:35.112163",
     "exception": false,
     "start_time": "2024-01-25T17:00:35.088574",
     "status": "completed"
    },
    "tags": []
   },
   "outputs": [],
   "source": [
    "preprocessor_cat = ColumnTransformer(\n",
    "transformers=[\n",
    "    ('num', numeric_transformer_xgb, numerical_features),\n",
    "    ('cat', categorical_transformer_cat, categorical_features)\n",
    "])"
   ]
  },
  {
   "cell_type": "code",
   "execution_count": 24,
   "id": "ac6a0d36",
   "metadata": {
    "_cell_guid": "05f7d1c6-ba3e-4294-84a5-2fe9a7f7c860",
    "_uuid": "f1189319-3e95-4936-b20f-5ea869add46c",
    "collapsed": false,
    "execution": {
     "iopub.execute_input": "2024-01-25T17:00:35.208601Z",
     "iopub.status.busy": "2024-01-25T17:00:35.208193Z",
     "iopub.status.idle": "2024-01-25T17:00:35.218713Z",
     "shell.execute_reply": "2024-01-25T17:00:35.217350Z"
    },
    "jupyter": {
     "outputs_hidden": false
    },
    "papermill": {
     "duration": 0.028142,
     "end_time": "2024-01-25T17:00:35.221270",
     "exception": false,
     "start_time": "2024-01-25T17:00:35.193128",
     "status": "completed"
    },
    "tags": []
   },
   "outputs": [],
   "source": [
    "cat_clf = Pipeline(steps=[('preprocessor', preprocessor_cat),\n",
    "                         ('classifier', CatBoostClassifier(iterations=100, random_state=42, verbose=0))])"
   ]
  },
  {
   "cell_type": "code",
   "execution_count": 25,
   "id": "5c9d47f8",
   "metadata": {
    "_cell_guid": "80e5e34f-ffbb-4181-b63f-3d791bbbb414",
    "_uuid": "faac4dca-b316-4cec-ac85-6c610425a4db",
    "collapsed": false,
    "execution": {
     "iopub.execute_input": "2024-01-25T17:00:35.249476Z",
     "iopub.status.busy": "2024-01-25T17:00:35.249053Z",
     "iopub.status.idle": "2024-01-25T17:00:39.619300Z",
     "shell.execute_reply": "2024-01-25T17:00:39.618038Z"
    },
    "jupyter": {
     "outputs_hidden": false
    },
    "papermill": {
     "duration": 4.387582,
     "end_time": "2024-01-25T17:00:39.622136",
     "exception": false,
     "start_time": "2024-01-25T17:00:35.234554",
     "status": "completed"
    },
    "tags": []
   },
   "outputs": [
    {
     "data": {
      "text/html": [
       "<style>#sk-container-id-1 {color: black;background-color: white;}#sk-container-id-1 pre{padding: 0;}#sk-container-id-1 div.sk-toggleable {background-color: white;}#sk-container-id-1 label.sk-toggleable__label {cursor: pointer;display: block;width: 100%;margin-bottom: 0;padding: 0.3em;box-sizing: border-box;text-align: center;}#sk-container-id-1 label.sk-toggleable__label-arrow:before {content: \"▸\";float: left;margin-right: 0.25em;color: #696969;}#sk-container-id-1 label.sk-toggleable__label-arrow:hover:before {color: black;}#sk-container-id-1 div.sk-estimator:hover label.sk-toggleable__label-arrow:before {color: black;}#sk-container-id-1 div.sk-toggleable__content {max-height: 0;max-width: 0;overflow: hidden;text-align: left;background-color: #f0f8ff;}#sk-container-id-1 div.sk-toggleable__content pre {margin: 0.2em;color: black;border-radius: 0.25em;background-color: #f0f8ff;}#sk-container-id-1 input.sk-toggleable__control:checked~div.sk-toggleable__content {max-height: 200px;max-width: 100%;overflow: auto;}#sk-container-id-1 input.sk-toggleable__control:checked~label.sk-toggleable__label-arrow:before {content: \"▾\";}#sk-container-id-1 div.sk-estimator input.sk-toggleable__control:checked~label.sk-toggleable__label {background-color: #d4ebff;}#sk-container-id-1 div.sk-label input.sk-toggleable__control:checked~label.sk-toggleable__label {background-color: #d4ebff;}#sk-container-id-1 input.sk-hidden--visually {border: 0;clip: rect(1px 1px 1px 1px);clip: rect(1px, 1px, 1px, 1px);height: 1px;margin: -1px;overflow: hidden;padding: 0;position: absolute;width: 1px;}#sk-container-id-1 div.sk-estimator {font-family: monospace;background-color: #f0f8ff;border: 1px dotted black;border-radius: 0.25em;box-sizing: border-box;margin-bottom: 0.5em;}#sk-container-id-1 div.sk-estimator:hover {background-color: #d4ebff;}#sk-container-id-1 div.sk-parallel-item::after {content: \"\";width: 100%;border-bottom: 1px solid gray;flex-grow: 1;}#sk-container-id-1 div.sk-label:hover label.sk-toggleable__label {background-color: #d4ebff;}#sk-container-id-1 div.sk-serial::before {content: \"\";position: absolute;border-left: 1px solid gray;box-sizing: border-box;top: 0;bottom: 0;left: 50%;z-index: 0;}#sk-container-id-1 div.sk-serial {display: flex;flex-direction: column;align-items: center;background-color: white;padding-right: 0.2em;padding-left: 0.2em;position: relative;}#sk-container-id-1 div.sk-item {position: relative;z-index: 1;}#sk-container-id-1 div.sk-parallel {display: flex;align-items: stretch;justify-content: center;background-color: white;position: relative;}#sk-container-id-1 div.sk-item::before, #sk-container-id-1 div.sk-parallel-item::before {content: \"\";position: absolute;border-left: 1px solid gray;box-sizing: border-box;top: 0;bottom: 0;left: 50%;z-index: -1;}#sk-container-id-1 div.sk-parallel-item {display: flex;flex-direction: column;z-index: 1;position: relative;background-color: white;}#sk-container-id-1 div.sk-parallel-item:first-child::after {align-self: flex-end;width: 50%;}#sk-container-id-1 div.sk-parallel-item:last-child::after {align-self: flex-start;width: 50%;}#sk-container-id-1 div.sk-parallel-item:only-child::after {width: 0;}#sk-container-id-1 div.sk-dashed-wrapped {border: 1px dashed gray;margin: 0 0.4em 0.5em 0.4em;box-sizing: border-box;padding-bottom: 0.4em;background-color: white;}#sk-container-id-1 div.sk-label label {font-family: monospace;font-weight: bold;display: inline-block;line-height: 1.2em;}#sk-container-id-1 div.sk-label-container {text-align: center;}#sk-container-id-1 div.sk-container {/* jupyter's `normalize.less` sets `[hidden] { display: none; }` but bootstrap.min.css set `[hidden] { display: none !important; }` so we also need the `!important` here to be able to override the default hidden behavior on the sphinx rendered scikit-learn.org. See: https://github.com/scikit-learn/scikit-learn/issues/21755 */display: inline-block !important;position: relative;}#sk-container-id-1 div.sk-text-repr-fallback {display: none;}</style><div id=\"sk-container-id-1\" class=\"sk-top-container\"><div class=\"sk-text-repr-fallback\"><pre>Pipeline(steps=[(&#x27;preprocessor&#x27;,\n",
       "                 ColumnTransformer(transformers=[(&#x27;num&#x27;, StandardScaler(),\n",
       "                                                  Index([&#x27;id&#x27;, &#x27;CustomerId&#x27;, &#x27;CreditScore&#x27;, &#x27;Age&#x27;, &#x27;Tenure&#x27;, &#x27;Balance&#x27;,\n",
       "       &#x27;NumOfProducts&#x27;, &#x27;HasCrCard&#x27;, &#x27;IsActiveMember&#x27;, &#x27;EstimatedSalary&#x27;],\n",
       "      dtype=&#x27;object&#x27;)),\n",
       "                                                 (&#x27;cat&#x27;,\n",
       "                                                  OneHotEncoder(handle_unknown=&#x27;ignore&#x27;),\n",
       "                                                  Index([&#x27;Surname&#x27;, &#x27;Geography&#x27;, &#x27;Gender&#x27;], dtype=&#x27;object&#x27;))])),\n",
       "                (&#x27;classifier&#x27;,\n",
       "                 &lt;catboost.core.CatBoostClassifier object at 0x7b94bf8908e0&gt;)])</pre><b>In a Jupyter environment, please rerun this cell to show the HTML representation or trust the notebook. <br />On GitHub, the HTML representation is unable to render, please try loading this page with nbviewer.org.</b></div><div class=\"sk-container\" hidden><div class=\"sk-item sk-dashed-wrapped\"><div class=\"sk-label-container\"><div class=\"sk-label sk-toggleable\"><input class=\"sk-toggleable__control sk-hidden--visually\" id=\"sk-estimator-id-1\" type=\"checkbox\" ><label for=\"sk-estimator-id-1\" class=\"sk-toggleable__label sk-toggleable__label-arrow\">Pipeline</label><div class=\"sk-toggleable__content\"><pre>Pipeline(steps=[(&#x27;preprocessor&#x27;,\n",
       "                 ColumnTransformer(transformers=[(&#x27;num&#x27;, StandardScaler(),\n",
       "                                                  Index([&#x27;id&#x27;, &#x27;CustomerId&#x27;, &#x27;CreditScore&#x27;, &#x27;Age&#x27;, &#x27;Tenure&#x27;, &#x27;Balance&#x27;,\n",
       "       &#x27;NumOfProducts&#x27;, &#x27;HasCrCard&#x27;, &#x27;IsActiveMember&#x27;, &#x27;EstimatedSalary&#x27;],\n",
       "      dtype=&#x27;object&#x27;)),\n",
       "                                                 (&#x27;cat&#x27;,\n",
       "                                                  OneHotEncoder(handle_unknown=&#x27;ignore&#x27;),\n",
       "                                                  Index([&#x27;Surname&#x27;, &#x27;Geography&#x27;, &#x27;Gender&#x27;], dtype=&#x27;object&#x27;))])),\n",
       "                (&#x27;classifier&#x27;,\n",
       "                 &lt;catboost.core.CatBoostClassifier object at 0x7b94bf8908e0&gt;)])</pre></div></div></div><div class=\"sk-serial\"><div class=\"sk-item sk-dashed-wrapped\"><div class=\"sk-label-container\"><div class=\"sk-label sk-toggleable\"><input class=\"sk-toggleable__control sk-hidden--visually\" id=\"sk-estimator-id-2\" type=\"checkbox\" ><label for=\"sk-estimator-id-2\" class=\"sk-toggleable__label sk-toggleable__label-arrow\">preprocessor: ColumnTransformer</label><div class=\"sk-toggleable__content\"><pre>ColumnTransformer(transformers=[(&#x27;num&#x27;, StandardScaler(),\n",
       "                                 Index([&#x27;id&#x27;, &#x27;CustomerId&#x27;, &#x27;CreditScore&#x27;, &#x27;Age&#x27;, &#x27;Tenure&#x27;, &#x27;Balance&#x27;,\n",
       "       &#x27;NumOfProducts&#x27;, &#x27;HasCrCard&#x27;, &#x27;IsActiveMember&#x27;, &#x27;EstimatedSalary&#x27;],\n",
       "      dtype=&#x27;object&#x27;)),\n",
       "                                (&#x27;cat&#x27;, OneHotEncoder(handle_unknown=&#x27;ignore&#x27;),\n",
       "                                 Index([&#x27;Surname&#x27;, &#x27;Geography&#x27;, &#x27;Gender&#x27;], dtype=&#x27;object&#x27;))])</pre></div></div></div><div class=\"sk-parallel\"><div class=\"sk-parallel-item\"><div class=\"sk-item\"><div class=\"sk-label-container\"><div class=\"sk-label sk-toggleable\"><input class=\"sk-toggleable__control sk-hidden--visually\" id=\"sk-estimator-id-3\" type=\"checkbox\" ><label for=\"sk-estimator-id-3\" class=\"sk-toggleable__label sk-toggleable__label-arrow\">num</label><div class=\"sk-toggleable__content\"><pre>Index([&#x27;id&#x27;, &#x27;CustomerId&#x27;, &#x27;CreditScore&#x27;, &#x27;Age&#x27;, &#x27;Tenure&#x27;, &#x27;Balance&#x27;,\n",
       "       &#x27;NumOfProducts&#x27;, &#x27;HasCrCard&#x27;, &#x27;IsActiveMember&#x27;, &#x27;EstimatedSalary&#x27;],\n",
       "      dtype=&#x27;object&#x27;)</pre></div></div></div><div class=\"sk-serial\"><div class=\"sk-item\"><div class=\"sk-estimator sk-toggleable\"><input class=\"sk-toggleable__control sk-hidden--visually\" id=\"sk-estimator-id-4\" type=\"checkbox\" ><label for=\"sk-estimator-id-4\" class=\"sk-toggleable__label sk-toggleable__label-arrow\">StandardScaler</label><div class=\"sk-toggleable__content\"><pre>StandardScaler()</pre></div></div></div></div></div></div><div class=\"sk-parallel-item\"><div class=\"sk-item\"><div class=\"sk-label-container\"><div class=\"sk-label sk-toggleable\"><input class=\"sk-toggleable__control sk-hidden--visually\" id=\"sk-estimator-id-5\" type=\"checkbox\" ><label for=\"sk-estimator-id-5\" class=\"sk-toggleable__label sk-toggleable__label-arrow\">cat</label><div class=\"sk-toggleable__content\"><pre>Index([&#x27;Surname&#x27;, &#x27;Geography&#x27;, &#x27;Gender&#x27;], dtype=&#x27;object&#x27;)</pre></div></div></div><div class=\"sk-serial\"><div class=\"sk-item\"><div class=\"sk-estimator sk-toggleable\"><input class=\"sk-toggleable__control sk-hidden--visually\" id=\"sk-estimator-id-6\" type=\"checkbox\" ><label for=\"sk-estimator-id-6\" class=\"sk-toggleable__label sk-toggleable__label-arrow\">OneHotEncoder</label><div class=\"sk-toggleable__content\"><pre>OneHotEncoder(handle_unknown=&#x27;ignore&#x27;)</pre></div></div></div></div></div></div></div></div><div class=\"sk-item\"><div class=\"sk-estimator sk-toggleable\"><input class=\"sk-toggleable__control sk-hidden--visually\" id=\"sk-estimator-id-7\" type=\"checkbox\" ><label for=\"sk-estimator-id-7\" class=\"sk-toggleable__label sk-toggleable__label-arrow\">CatBoostClassifier</label><div class=\"sk-toggleable__content\"><pre>&lt;catboost.core.CatBoostClassifier object at 0x7b94bf8908e0&gt;</pre></div></div></div></div></div></div></div>"
      ],
      "text/plain": [
       "Pipeline(steps=[('preprocessor',\n",
       "                 ColumnTransformer(transformers=[('num', StandardScaler(),\n",
       "                                                  Index(['id', 'CustomerId', 'CreditScore', 'Age', 'Tenure', 'Balance',\n",
       "       'NumOfProducts', 'HasCrCard', 'IsActiveMember', 'EstimatedSalary'],\n",
       "      dtype='object')),\n",
       "                                                 ('cat',\n",
       "                                                  OneHotEncoder(handle_unknown='ignore'),\n",
       "                                                  Index(['Surname', 'Geography', 'Gender'], dtype='object'))])),\n",
       "                ('classifier',\n",
       "                 <catboost.core.CatBoostClassifier object at 0x7b94bf8908e0>)])"
      ]
     },
     "execution_count": 25,
     "metadata": {},
     "output_type": "execute_result"
    }
   ],
   "source": [
    "cat_clf.fit(X_train, y_train)"
   ]
  },
  {
   "cell_type": "code",
   "execution_count": 26,
   "id": "efa2ecf3",
   "metadata": {
    "_cell_guid": "56597d70-984d-442c-b15f-d3edbda76e88",
    "_uuid": "0f9bdde1-3f81-4111-bb0e-b4c08a8d56ee",
    "collapsed": false,
    "execution": {
     "iopub.execute_input": "2024-01-25T17:00:39.651212Z",
     "iopub.status.busy": "2024-01-25T17:00:39.650801Z",
     "iopub.status.idle": "2024-01-25T17:00:40.257618Z",
     "shell.execute_reply": "2024-01-25T17:00:40.256339Z"
    },
    "jupyter": {
     "outputs_hidden": false
    },
    "papermill": {
     "duration": 0.625115,
     "end_time": "2024-01-25T17:00:40.260908",
     "exception": false,
     "start_time": "2024-01-25T17:00:39.635793",
     "status": "completed"
    },
    "tags": []
   },
   "outputs": [],
   "source": [
    "test_predictions_cat = cat_clf.predict_proba(test_df)[:,1]"
   ]
  },
  {
   "cell_type": "code",
   "execution_count": 27,
   "id": "e7ed3e42",
   "metadata": {
    "_cell_guid": "a6b2429a-1ddf-4c25-813f-a2b497d1a378",
    "_uuid": "3f2f4267-5f80-4584-8605-0d47693ec047",
    "collapsed": false,
    "execution": {
     "iopub.execute_input": "2024-01-25T17:00:40.291942Z",
     "iopub.status.busy": "2024-01-25T17:00:40.291483Z",
     "iopub.status.idle": "2024-01-25T17:00:40.298853Z",
     "shell.execute_reply": "2024-01-25T17:00:40.297546Z"
    },
    "jupyter": {
     "outputs_hidden": false
    },
    "papermill": {
     "duration": 0.026759,
     "end_time": "2024-01-25T17:00:40.302020",
     "exception": false,
     "start_time": "2024-01-25T17:00:40.275261",
     "status": "completed"
    },
    "tags": []
   },
   "outputs": [],
   "source": [
    "submission_df = pd.DataFrame({'id': test_df['id'], 'Exited': test_predictions_cat})"
   ]
  },
  {
   "cell_type": "code",
   "execution_count": 28,
   "id": "091579ab",
   "metadata": {
    "_cell_guid": "d04a1a4e-7a2d-4150-9a37-42338dfb2486",
    "_uuid": "27e1c627-dd43-43e2-bc44-05c28d825b15",
    "collapsed": false,
    "execution": {
     "iopub.execute_input": "2024-01-25T17:00:40.331206Z",
     "iopub.status.busy": "2024-01-25T17:00:40.330749Z",
     "iopub.status.idle": "2024-01-25T17:00:40.826526Z",
     "shell.execute_reply": "2024-01-25T17:00:40.825361Z"
    },
    "jupyter": {
     "outputs_hidden": false
    },
    "papermill": {
     "duration": 0.513711,
     "end_time": "2024-01-25T17:00:40.829447",
     "exception": false,
     "start_time": "2024-01-25T17:00:40.315736",
     "status": "completed"
    },
    "tags": []
   },
   "outputs": [],
   "source": [
    "submission_df.to_csv('submission.csv', index=False)"
   ]
  },
  {
   "cell_type": "code",
   "execution_count": null,
   "id": "8e7e64a0",
   "metadata": {
    "_cell_guid": "9d4b7a06-5a93-4e58-83da-99f28efea1a3",
    "_uuid": "1d9e07c2-122b-4270-84f3-079291e80c1d",
    "collapsed": false,
    "jupyter": {
     "outputs_hidden": false
    },
    "papermill": {
     "duration": 0.013954,
     "end_time": "2024-01-25T17:00:40.857014",
     "exception": false,
     "start_time": "2024-01-25T17:00:40.843060",
     "status": "completed"
    },
    "tags": []
   },
   "outputs": [],
   "source": []
  }
 ],
 "metadata": {
  "kaggle": {
   "accelerator": "none",
   "dataSources": [
    {
     "databundleVersionId": 7405009,
     "sourceId": 65711,
     "sourceType": "competition"
    }
   ],
   "dockerImageVersionId": 30635,
   "isGpuEnabled": false,
   "isInternetEnabled": false,
   "language": "python",
   "sourceType": "notebook"
  },
  "kernelspec": {
   "display_name": "Python 3",
   "language": "python",
   "name": "python3"
  },
  "language_info": {
   "codemirror_mode": {
    "name": "ipython",
    "version": 3
   },
   "file_extension": ".py",
   "mimetype": "text/x-python",
   "name": "python",
   "nbconvert_exporter": "python",
   "pygments_lexer": "ipython3",
   "version": "3.10.12"
  },
  "papermill": {
   "default_parameters": {},
   "duration": 17.283695,
   "end_time": "2024-01-25T17:00:41.593446",
   "environment_variables": {},
   "exception": null,
   "input_path": "__notebook__.ipynb",
   "output_path": "__notebook__.ipynb",
   "parameters": {},
   "start_time": "2024-01-25T17:00:24.309751",
   "version": "2.4.0"
  }
 },
 "nbformat": 4,
 "nbformat_minor": 5
}
